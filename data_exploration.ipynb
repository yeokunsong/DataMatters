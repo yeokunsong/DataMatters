{
 "cells": [
  {
   "cell_type": "code",
   "execution_count": 1,
   "metadata": {},
   "outputs": [],
   "source": [
    "import pandas as pd\n",
    "import json\n",
    "from collections import Counter\n",
    "\n",
    "import matplotlib.pyplot as plt\n",
    "import seaborn as sns\n"
   ]
  },
  {
   "cell_type": "markdown",
   "metadata": {},
   "source": [
    "# Read the categories"
   ]
  },
  {
   "cell_type": "code",
   "execution_count": 2,
   "metadata": {},
   "outputs": [
    {
     "name": "stdout",
     "output_type": "stream",
     "text": [
      "{'Mobile': {'Others Mobile & Tablet': 35, 'Smartfren': 53, 'Infinix': 40, 'Brandcode': 39, 'Icherry': 52, 'Advan': 45, 'Iphone': 31, 'Realme': 51, 'Motorola': 49, 'Maxtron': 56, 'Nokia': 38, 'Xiaomi': 34, 'Mito': 46, 'Sony': 33, 'SPC': 57, 'Lenovo': 37, 'Alcatel': 55, 'Samsung': 32, 'Vivo': 42, 'Evercoss': 44, 'Strawberry': 50, 'Blackberry': 36, 'Asus': 43, 'Honor': 54, 'Oppo': 41, 'Huawei': 47, 'Sharp': 48}, 'Fashion': {'Wedding Dress': 23, 'Shirt': 27, 'Casual Dress': 18, 'Maxi Dress': 20, 'Big Size Dress': 24, 'Bodycon Dress': 22, 'Party Dress': 19, 'Blouse\\xa0': 26, 'Tshirt': 25, 'Crop Top ': 29, 'Tanktop': 28, 'Others': 17, 'A Line Dress': 21, 'Big Size Top': 30}, 'Beauty': {'Foundation': 1, 'Face Palette': 0, 'Concealer': 7, 'Lip Gloss': 14, 'Blush On': 2, 'Highlighter': 8, 'BB & CC Cream': 5, 'Other Face Cosmetics': 4, 'Lip Tint': 13, 'Bronzer': 11, 'Lip Liner': 15, 'Powder': 3, 'Setting Spray': 10, 'Primer': 9, 'Contour': 6, 'Other Lip Cosmetics': 16, 'Lipstick': 12}} \n",
      "\n",
      "Mobile  has  27  classes\n",
      "[31, 32, 33, 34, 35, 36, 37, 38, 39, 40, 41, 42, 43, 44, 45, 46, 47, 48, 49, 50, 51, 52, 53, 54, 55, 56, 57] \n",
      "\n",
      "Fashion  has  14  classes\n",
      "[17, 18, 19, 20, 21, 22, 23, 24, 25, 26, 27, 28, 29, 30] \n",
      "\n",
      "Beauty  has  17  classes\n",
      "[0, 1, 2, 3, 4, 5, 6, 7, 8, 9, 10, 11, 12, 13, 14, 15, 16] \n",
      "\n"
     ]
    }
   ],
   "source": [
    "with open(\"ndsc-beginner\\\\categories.json\", \"r\") as read_file:\n",
    "    categories = json.load(read_file)\n",
    "\n",
    "print (categories,'\\n')\n",
    "\n",
    "for big_label in categories:\n",
    "    l = list(categories[big_label].values())\n",
    "    l.sort()\n",
    "    print (big_label,' has ',len(l), ' classes')\n",
    "    print (l,'\\n')\n",
    "\n",
    "\n"
   ]
  },
  {
   "cell_type": "code",
   "execution_count": 3,
   "metadata": {},
   "outputs": [],
   "source": [
    "# Build mapper, from number to categories and big labels\n",
    "\n",
    "num2categories = {}\n",
    "for l1 in categories:\n",
    "    for l2 in categories[l1]:\n",
    "        num2categories[categories[l1][l2]] = l2\n",
    "        #print (categories[l1][l2], ' ', l2)\n",
    "\n",
    "num2biglabel = {}\n",
    "for i in (range(0,17)):\n",
    "    num2biglabel[i]='Beauty'\n",
    "for i in (range(17,31)):\n",
    "    num2biglabel[i]='Fashion'\n",
    "for i in (range(31,58)):\n",
    "    num2biglabel[i]='Mobile'"
   ]
  },
  {
   "cell_type": "markdown",
   "metadata": {},
   "source": [
    "# Read the data"
   ]
  },
  {
   "cell_type": "code",
   "execution_count": 4,
   "metadata": {
    "scrolled": true
   },
   "outputs": [
    {
     "name": "stdout",
     "output_type": "stream",
     "text": [
      "Tuples of Category and Count\n",
      "[(0, 3772), (1, 28670), (2, 11544), (3, 81250), (4, 42688), (5, 55279), (6, 2047), (7, 11668), (8, 6048), (9, 8106), (10, 1077), (11, 4108), (12, 21782), (13, 2982), (14, 2735), (15, 599), (16, 2228), (17, 2765), (18, 56598), (19, 13493), (20, 19978), (21, 10483), (22, 15225), (23, 1671), (24, 4251), (25, 33922), (26, 33845), (27, 16199), (28, 6493), (29, 3338), (30, 1441), (31, 27836), (32, 29754), (33, 4821), (34, 14718), (35, 30590), (36, 1028), (37, 2272), (38, 4703), (39, 697), (40, 327), (41, 19312), (42, 10502), (43, 6147), (44, 920), (45, 2195), (46, 684), (47, 945), (48, 416), (49, 573), (50, 282), (51, 404), (52, 117), (53, 418), (54, 300), (55, 151), (56, 170), (57, 48)]\n"
     ]
    }
   ],
   "source": [
    "data = pd.read_csv(\"ndsc-beginner\\\\train.csv\")\n",
    "\n",
    "counter = Counter(data['Category'])\n",
    "count = list(counter.items())\n",
    "print ('Tuples of Category and Count')\n",
    "print (count)\n"
   ]
  },
  {
   "cell_type": "code",
   "execution_count": 48,
   "metadata": {},
   "outputs": [
    {
     "data": {
      "text/plain": [
       "['0-             Face Palette   3772',\n",
       " '1-               Foundation  28670',\n",
       " '2-                 Blush On  11544',\n",
       " '3-                   Powder  81250',\n",
       " '4-     Other Face Cosmetics  42688',\n",
       " '5-            BB & CC Cream  55279',\n",
       " '6-                  Contour   2047',\n",
       " '7-                Concealer  11668',\n",
       " '8-              Highlighter   6048',\n",
       " '9-                   Primer   8106',\n",
       " '10-            Setting Spray   1077',\n",
       " '11-                  Bronzer   4108',\n",
       " '12-                 Lipstick  21782',\n",
       " '13-                 Lip Tint   2982',\n",
       " '14-                Lip Gloss   2735',\n",
       " '15-                Lip Liner    599',\n",
       " '16-      Other Lip Cosmetics   2228',\n",
       " '17-                   Others   2765',\n",
       " '18-             Casual Dress  56598',\n",
       " '19-              Party Dress  13493',\n",
       " '20-               Maxi Dress  19978',\n",
       " '21-             A Line Dress  10483',\n",
       " '22-            Bodycon Dress  15225',\n",
       " '23-            Wedding Dress   1671',\n",
       " '24-           Big Size Dress   4251',\n",
       " '25-                   Tshirt  33922',\n",
       " '26-                  Blouse\\xa0  33845',\n",
       " '27-                    Shirt  16199',\n",
       " '28-                  Tanktop   6493',\n",
       " '29-                Crop Top    3338',\n",
       " '30-             Big Size Top   1441',\n",
       " '31-                   Iphone  27836',\n",
       " '32-                  Samsung  29754',\n",
       " '33-                     Sony   4821',\n",
       " '34-                   Xiaomi  14718',\n",
       " '35-   Others Mobile & Tablet  30590',\n",
       " '36-               Blackberry   1028',\n",
       " '37-                   Lenovo   2272',\n",
       " '38-                    Nokia   4703',\n",
       " '39-                Brandcode    697',\n",
       " '40-                  Infinix    327',\n",
       " '41-                     Oppo  19312',\n",
       " '42-                     Vivo  10502',\n",
       " '43-                     Asus   6147',\n",
       " '44-                 Evercoss    920',\n",
       " '45-                    Advan   2195',\n",
       " '46-                     Mito    684',\n",
       " '47-                   Huawei    945',\n",
       " '48-                    Sharp    416',\n",
       " '49-                 Motorola    573',\n",
       " '50-               Strawberry    282',\n",
       " '51-                   Realme    404',\n",
       " '52-                  Icherry    117',\n",
       " '53-                Smartfren    418',\n",
       " '54-                    Honor    300',\n",
       " '55-                  Alcatel    151',\n",
       " '56-                  Maxtron    170',\n",
       " '57-                      SPC     48']"
      ]
     },
     "execution_count": 48,
     "metadata": {},
     "output_type": "execute_result"
    }
   ],
   "source": [
    "[str('{}-{:>25} {:>6}'.format(i,num2categories[i],v)) for i,v in count]"
   ]
  },
  {
   "cell_type": "code",
   "execution_count": 12,
   "metadata": {
    "scrolled": false
   },
   "outputs": [
    {
     "name": "stdout",
     "output_type": "stream",
     "text": [
      "   Num  Count BigLabel\n",
      "0    0   3772   Beauty\n",
      "1    1  28670   Beauty\n",
      "2    2  11544   Beauty\n",
      "3    3  81250   Beauty\n",
      "4    4  42688   Beauty\n"
     ]
    },
    {
     "data": {
      "image/png": "[encoded data removed]",
      "text/plain": [
       "<Figure size 432x288 with 1 Axes>"
      ]
     },
     "metadata": {
      "needs_background": "light"
     },
     "output_type": "display_data"
    }
   ],
   "source": [
    "data2 = pd.DataFrame(count,columns=['Num','Count'])\n",
    "                     \n",
    "data2['BigLabel'] = list(map(lambda x:num2biglabel[x],data2['Num']))\n",
    "#print (data2.head())\n",
    "\n",
    "ax = sns.barplot(x='Num',y='Count',hue='BigLabel', data=data2)\n",
    "ax.set(xticks=[]); ax.set(xlabel=\"\")\n",
    "plt.show()"
   ]
  },
  {
   "cell_type": "code",
   "execution_count": 34,
   "metadata": {},
   "outputs": [
    {
     "name": "stdout",
     "output_type": "stream",
     "text": [
      "286583\n",
      "219702\n",
      "160330\n"
     ]
    }
   ],
   "source": [
    "n_Beauty = sum(n for _,n in count[0:17])\n",
    "n_Fashion = sum(n for _,n in count[17:31])\n",
    "n_Mobile = sum(n for _,n in count[31:])\n",
    "\n",
    "print (n_Beauty);print (n_Fashion);print (n_Mobile);"
   ]
  }
 ],
 "metadata": {
  "kernelspec": {
   "display_name": "sss",
   "language": "python",
   "name": "sss"
  },
  "language_info": {
   "codemirror_mode": {
    "name": "ipython",
    "version": 3
   },
   "file_extension": ".py",
   "mimetype": "text/x-python",
   "name": "python",
   "nbconvert_exporter": "python",
   "pygments_lexer": "ipython3",
   "version": "3.6.7"
  }
 },
 "nbformat": 4,
 "nbformat_minor": 2
}
